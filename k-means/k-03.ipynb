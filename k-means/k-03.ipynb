{
 "cells": [
  {
   "cell_type": "code",
   "execution_count": null,
   "id": "215ab73e-c8f3-403b-a1cd-7e3707042383",
   "metadata": {},
   "outputs": [],
   "source": []
  },
  {
   "cell_type": "code",
   "execution_count": 4,
   "id": "7390b9ae-2837-4e95-86dc-13392a38bb29",
   "metadata": {},
   "outputs": [
    {
     "name": "stderr",
     "output_type": "stream",
     "text": [
      "Warning : `load_model` does not return WordVectorModel or SupervisedModel any more, but a `FastText` object which is very similar.\n"
     ]
    }
   ],
   "source": [
    "import fasttext\n",
    "import pandas\n",
    "\n",
    "ft = fasttext.load_model('../compara/ft_data/MX.bin')"
   ]
  },
  {
   "cell_type": "code",
   "execution_count": 2,
   "id": "d92862fb-903d-4a43-9b42-b7d35fbd9060",
   "metadata": {},
   "outputs": [
    {
     "data": {
      "text/plain": [
       "571689"
      ]
     },
     "execution_count": 2,
     "metadata": {},
     "output_type": "execute_result"
    }
   ],
   "source": [
    "len(ft.get_words())"
   ]
  },
  {
   "cell_type": "code",
   "execution_count": 3,
   "id": "6c49169f-ddc7-4175-80f7-994a9d6a39cf",
   "metadata": {},
   "outputs": [
    {
     "data": {
      "text/plain": [
       "list"
      ]
     },
     "execution_count": 3,
     "metadata": {},
     "output_type": "execute_result"
    }
   ],
   "source": [
    "type(ft.get_words())"
   ]
  },
  {
   "cell_type": "code",
   "execution_count": 5,
   "id": "f406f558-56bb-4a1d-b378-f67be40bbdb8",
   "metadata": {},
   "outputs": [],
   "source": [
    "df = pandas.DataFrame(data={\"col1\": ft.get_words()})\n",
    "df.to_csv(\"file.csv\", sep=',',index=False)"
   ]
  },
  {
   "cell_type": "code",
   "execution_count": null,
   "id": "ae529816-96f2-44d4-9c82-baa95a32327d",
   "metadata": {},
   "outputs": [],
   "source": []
  }
 ],
 "metadata": {
  "kernelspec": {
   "display_name": "Python 3",
   "language": "python",
   "name": "python3"
  },
  "language_info": {
   "codemirror_mode": {
    "name": "ipython",
    "version": 3
   },
   "file_extension": ".py",
   "mimetype": "text/x-python",
   "name": "python",
   "nbconvert_exporter": "python",
   "pygments_lexer": "ipython3",
   "version": "3.7.4"
  }
 },
 "nbformat": 4,
 "nbformat_minor": 5
}
