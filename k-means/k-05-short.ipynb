{
 "cells": [
  {
   "cell_type": "markdown",
   "id": "a56bf5ff",
   "metadata": {},
   "source": [
    "https://stackabuse.com/k-means-clustering-with-scikit-learn/\n",
    "\n",
    "https://scikit-learn.org/stable/modules/clustering.html\n"
   ]
  },
  {
   "cell_type": "code",
   "execution_count": 1,
   "id": "f1447b77",
   "metadata": {},
   "outputs": [],
   "source": [
    "import fasttext\n",
    "import pandas as pd\n",
    "import random\n",
    "from sklearn.cluster import KMeans\n",
    "import numpy as np\n",
    "import matplotlib.pylab as plt\n",
    "from microtc.utils import save_model\n",
    "from sklearn.cluster import MiniBatchKMeans"
   ]
  },
  {
   "cell_type": "code",
   "execution_count": 2,
   "id": "07f246e7",
   "metadata": {},
   "outputs": [
    {
     "name": "stderr",
     "output_type": "stream",
     "text": [
      "Warning : `load_model` does not return WordVectorModel or SupervisedModel any more, but a `FastText` object which is very similar.\n"
     ]
    }
   ],
   "source": [
    "# cargar el MX.bin\n",
    "ft = fasttext.load_model('../../ft_data/MX.bin') "
   ]
  },
  {
   "cell_type": "code",
   "execution_count": 3,
   "id": "3dc46d6e",
   "metadata": {},
   "outputs": [
    {
     "data": {
      "text/plain": [
       "571689"
      ]
     },
     "execution_count": 3,
     "metadata": {},
     "output_type": "execute_result"
    }
   ],
   "source": [
    "## todas las palabras del vocabulario\n",
    "#words = random.sample(ft.get_words(), 1000)\n",
    "words = ft.get_words()\n",
    "len(words) # "
   ]
  },
  {
   "cell_type": "code",
   "execution_count": 4,
   "id": "58e3c6a2",
   "metadata": {},
   "outputs": [
    {
     "name": "stdout",
     "output_type": "stream",
     "text": [
      "Wall time: 14.3 s\n"
     ]
    }
   ],
   "source": [
    "## todos los vectores word x word\n",
    "%time x = [ft.get_word_vector(w) for w in words]\n",
    "# x list of numpy.ndarray of numpy.float32"
   ]
  },
  {
   "cell_type": "code",
   "execution_count": 5,
   "id": "00618b18",
   "metadata": {},
   "outputs": [],
   "source": [
    "# %time df = pd.DataFrame(x)"
   ]
  },
  {
   "cell_type": "code",
   "execution_count": 6,
   "id": "128e9fbe",
   "metadata": {},
   "outputs": [],
   "source": [
    "# %time df.describe()"
   ]
  },
  {
   "cell_type": "code",
   "execution_count": 7,
   "id": "ad3b878e-0ef8-4255-8d9a-1bf59bc9c8d6",
   "metadata": {},
   "outputs": [],
   "source": [
    "# df.head()"
   ]
  },
  {
   "cell_type": "code",
   "execution_count": 7,
   "id": "c339071d-296f-4167-b571-e58362329a29",
   "metadata": {},
   "outputs": [],
   "source": []
  },
  {
   "cell_type": "code",
   "execution_count": 8,
   "id": "780b4940",
   "metadata": {},
   "outputs": [
    {
     "name": "stdout",
     "output_type": "stream",
     "text": [
      "Wall time: 9.03 s\n"
     ]
    },
    {
     "data": {
      "text/plain": [
       "[(0.7055066823959351, 'casita'),\n",
       " (0.6605292558670044, 'depa'),\n",
       " (0.6359991431236267, 'casaa'),\n",
       " (0.5902785062789917, 'recamara'),\n",
       " (0.5883163809776306, '🏠'),\n",
       " (0.5849549770355225, '🏡'),\n",
       " (0.5732880234718323, 'ksa'),\n",
       " (0.5494673252105713, 'habitacion'),\n",
       " (0.5479555130004883, 'casaabue'),\n",
       " (0.5374772548675537, 'casitaa')]"
      ]
     },
     "execution_count": 8,
     "metadata": {},
     "output_type": "execute_result"
    }
   ],
   "source": [
    "%time ft.get_nearest_neighbors('casa')"
   ]
  },
  {
   "cell_type": "code",
   "execution_count": 9,
   "id": "3ad7bbc9",
   "metadata": {},
   "outputs": [],
   "source": [
    "# ft.get_word_vector('casa')\n",
    "# x list of numpy.ndarray of numpy.float32"
   ]
  },
  {
   "cell_type": "code",
   "execution_count": 10,
   "id": "4bafd2c7",
   "metadata": {},
   "outputs": [],
   "source": [
    "def normalize(vector):\n",
    "    return vector/np.linalg.norm(vector)"
   ]
  },
  {
   "cell_type": "code",
   "execution_count": 11,
   "id": "33984f0b-b707-41ec-818e-93d30543309a",
   "metadata": {},
   "outputs": [],
   "source": [
    "## normalizar cada vector\n",
    "%time x_normalized = [normalize(v) for v in x]"
   ]
  },
  {
   "cell_type": "code",
   "execution_count": 1,
   "id": "87592334-80a8-4bb8-9be0-a28e6427ba35",
   "metadata": {},
   "outputs": [
    {
     "ename": "NameError",
     "evalue": "name 'x' is not defined",
     "output_type": "error",
     "traceback": [
      "\u001b[1;31m---------------------------------------------------------------------------\u001b[0m",
      "\u001b[1;31mNameError\u001b[0m                                 Traceback (most recent call last)",
      "\u001b[1;32m<ipython-input-1-2f755f117ac9>\u001b[0m in \u001b[0;36m<module>\u001b[1;34m\u001b[0m\n\u001b[1;32m----> 1\u001b[1;33m \u001b[0mx\u001b[0m\u001b[1;33m[\u001b[0m\u001b[1;36m0\u001b[0m\u001b[1;33m]\u001b[0m\u001b[1;33m\u001b[0m\u001b[1;33m\u001b[0m\u001b[0m\n\u001b[0m",
      "\u001b[1;31mNameError\u001b[0m: name 'x' is not defined"
     ]
    }
   ],
   "source": [
    "x[0]"
   ]
  },
  {
   "cell_type": "code",
   "execution_count": 12,
   "id": "121612f1-4ec3-4182-a654-d3cd8678c0d5",
   "metadata": {},
   "outputs": [],
   "source": [
    "save_model(x_normalized, 'x_normalized_all_word.norm')"
   ]
  },
  {
   "cell_type": "code",
   "execution_count": null,
   "id": "825fd332-e5e4-4003-b296-8f84cf9310c4",
   "metadata": {},
   "outputs": [],
   "source": [
    "len(words)"
   ]
  },
  {
   "cell_type": "code",
   "execution_count": null,
   "id": "e32d56ae-c609-4679-ab4a-b8c5fd002b51",
   "metadata": {},
   "outputs": [],
   "source": [
    "len(x)"
   ]
  },
  {
   "cell_type": "code",
   "execution_count": null,
   "id": "fd88d2a8-201f-461f-98cc-8023f52c1b7d",
   "metadata": {},
   "outputs": [],
   "source": [
    " len(x_normalized)"
   ]
  },
  {
   "cell_type": "code",
   "execution_count": 23,
   "id": "b56df3d9-981d-4c2b-b655-d5b97012bb23",
   "metadata": {},
   "outputs": [],
   "source": [
    "## MiniBatchKMeans con los vectores normalizados\n",
    "%time kmeans_mini = MiniBatchKMeans(n_clusters = 10000, init = 'k-means++', random_state = 42,  max_iter=100)\n",
    "%time kmeans_mini.fit(x_normalized)"
   ]
  },
  {
   "cell_type": "code",
   "execution_count": 23,
   "id": "1b94c715-72c6-4388-a95d-e5123073b71a",
   "metadata": {},
   "outputs": [
    {
     "name": "stdout",
     "output_type": "stream",
     "text": [
      "Wall time: 0 ns\n"
     ]
    },
    {
     "name": "stderr",
     "output_type": "stream",
     "text": [
      "C:\\Users\\Calderas\\Anaconda3\\lib\\site-packages\\sklearn\\cluster\\_kmeans.py:888: UserWarning: MiniBatchKMeans is known to have a memory leak on Windows with MKL, when there are less chunks than available threads. You can prevent it by setting batch_size >= 2048 or by setting the environment variable OMP_NUM_THREADS=1\n",
      "  f\"MiniBatchKMeans is known to have a memory leak on \"\n"
     ]
    },
    {
     "name": "stdout",
     "output_type": "stream",
     "text": [
      "Wall time: 16min 28s\n"
     ]
    },
    {
     "data": {
      "text/plain": [
       "MiniBatchKMeans(n_clusters=10000, random_state=42)"
      ]
     },
     "execution_count": 23,
     "metadata": {},
     "output_type": "execute_result"
    }
   ],
   "source": [
    "kmeans_mini_centers = np.sort(kmeans_mini.cluster_centers_, axis = 0)\n",
    "kmeans_minis_labels = pairwise_distances_argmin(x_normalized, kmeans_mini_centers)"
   ]
  },
  {
   "cell_type": "code",
   "execution_count": null,
   "id": "055f1a92",
   "metadata": {},
   "outputs": [],
   "source": [
    "%time kmeans = KMeans(n_clusters = 10000, init = 'k-means++', random_state = 42,  max_iter=100)\n",
    "%time kmeans.fit(x_normalized)"
   ]
  },
  {
   "cell_type": "code",
   "execution_count": 25,
   "id": "cabbce10",
   "metadata": {},
   "outputs": [],
   "source": [
    "from microtc.utils import save_model\n",
    "save_model(kmeans_fit, 'k-means-fit-all-10000.kmeans')"
   ]
  },
  {
   "cell_type": "code",
   "execution_count": 22,
   "id": "6765d459",
   "metadata": {},
   "outputs": [],
   "source": [
    "centroids = kmeans_mini.cluster_centers_"
   ]
  },
  {
   "cell_type": "code",
   "execution_count": null,
   "id": "0146fb66-e013-4521-a27a-669617422e2c",
   "metadata": {},
   "outputs": [],
   "source": [
    "from sklearn.cluster import MiniBatchKMeans\n",
    "%time kmeans_mini = MiniBatchKMeans(n_clusters = 400, init = 'k-means++', random_state = 42,  max_iter=100)"
   ]
  },
  {
   "cell_type": "code",
   "execution_count": 73,
   "id": "a9b339cc-a971-4dac-9f09-9a628911e6dc",
   "metadata": {},
   "outputs": [
    {
     "name": "stdout",
     "output_type": "stream",
     "text": [
      "CPU times: user 16.9 ms, sys: 1.03 ms, total: 17.9 ms\n",
      "Wall time: 17.2 ms\n"
     ]
    }
   ],
   "source": [
    "%time df = pd.DataFrame(x_normalized)"
   ]
  },
  {
   "cell_type": "code",
   "execution_count": 76,
   "id": "3ae11e92",
   "metadata": {},
   "outputs": [
    {
     "data": {
      "text/html": [
       "<div>\n",
       "<style scoped>\n",
       "    .dataframe tbody tr th:only-of-type {\n",
       "        vertical-align: middle;\n",
       "    }\n",
       "\n",
       "    .dataframe tbody tr th {\n",
       "        vertical-align: top;\n",
       "    }\n",
       "\n",
       "    .dataframe thead th {\n",
       "        text-align: right;\n",
       "    }\n",
       "</style>\n",
       "<table border=\"1\" class=\"dataframe\">\n",
       "  <thead>\n",
       "    <tr style=\"text-align: right;\">\n",
       "      <th></th>\n",
       "      <th>0</th>\n",
       "      <th>1</th>\n",
       "      <th>2</th>\n",
       "      <th>3</th>\n",
       "      <th>4</th>\n",
       "      <th>5</th>\n",
       "      <th>6</th>\n",
       "      <th>7</th>\n",
       "      <th>8</th>\n",
       "      <th>9</th>\n",
       "      <th>...</th>\n",
       "      <th>290</th>\n",
       "      <th>291</th>\n",
       "      <th>292</th>\n",
       "      <th>293</th>\n",
       "      <th>294</th>\n",
       "      <th>295</th>\n",
       "      <th>296</th>\n",
       "      <th>297</th>\n",
       "      <th>298</th>\n",
       "      <th>299</th>\n",
       "    </tr>\n",
       "  </thead>\n",
       "  <tbody>\n",
       "    <tr>\n",
       "      <th>count</th>\n",
       "      <td>100.000000</td>\n",
       "      <td>100.000000</td>\n",
       "      <td>100.000000</td>\n",
       "      <td>100.000000</td>\n",
       "      <td>100.000000</td>\n",
       "      <td>100.000000</td>\n",
       "      <td>100.000000</td>\n",
       "      <td>100.000000</td>\n",
       "      <td>100.000000</td>\n",
       "      <td>100.000000</td>\n",
       "      <td>...</td>\n",
       "      <td>100.000000</td>\n",
       "      <td>100.000000</td>\n",
       "      <td>100.000000</td>\n",
       "      <td>100.000000</td>\n",
       "      <td>100.000000</td>\n",
       "      <td>100.000000</td>\n",
       "      <td>100.000000</td>\n",
       "      <td>100.000000</td>\n",
       "      <td>100.000000</td>\n",
       "      <td>100.000000</td>\n",
       "    </tr>\n",
       "    <tr>\n",
       "      <th>mean</th>\n",
       "      <td>0.048063</td>\n",
       "      <td>0.002465</td>\n",
       "      <td>0.068856</td>\n",
       "      <td>-0.049706</td>\n",
       "      <td>-0.005404</td>\n",
       "      <td>0.029251</td>\n",
       "      <td>0.029855</td>\n",
       "      <td>0.024838</td>\n",
       "      <td>-0.008794</td>\n",
       "      <td>-0.011775</td>\n",
       "      <td>...</td>\n",
       "      <td>0.022625</td>\n",
       "      <td>0.014962</td>\n",
       "      <td>-0.017719</td>\n",
       "      <td>0.025813</td>\n",
       "      <td>0.020600</td>\n",
       "      <td>-0.017776</td>\n",
       "      <td>0.022564</td>\n",
       "      <td>-0.020521</td>\n",
       "      <td>-0.018685</td>\n",
       "      <td>0.017812</td>\n",
       "    </tr>\n",
       "    <tr>\n",
       "      <th>std</th>\n",
       "      <td>0.060148</td>\n",
       "      <td>0.059554</td>\n",
       "      <td>0.058360</td>\n",
       "      <td>0.058235</td>\n",
       "      <td>0.052996</td>\n",
       "      <td>0.056047</td>\n",
       "      <td>0.062489</td>\n",
       "      <td>0.052626</td>\n",
       "      <td>0.053521</td>\n",
       "      <td>0.050826</td>\n",
       "      <td>...</td>\n",
       "      <td>0.064773</td>\n",
       "      <td>0.050453</td>\n",
       "      <td>0.061294</td>\n",
       "      <td>0.051648</td>\n",
       "      <td>0.047672</td>\n",
       "      <td>0.051016</td>\n",
       "      <td>0.053373</td>\n",
       "      <td>0.054882</td>\n",
       "      <td>0.051268</td>\n",
       "      <td>0.057398</td>\n",
       "    </tr>\n",
       "    <tr>\n",
       "      <th>min</th>\n",
       "      <td>-0.060959</td>\n",
       "      <td>-0.130392</td>\n",
       "      <td>-0.120841</td>\n",
       "      <td>-0.190018</td>\n",
       "      <td>-0.139096</td>\n",
       "      <td>-0.113941</td>\n",
       "      <td>-0.102089</td>\n",
       "      <td>-0.117995</td>\n",
       "      <td>-0.138958</td>\n",
       "      <td>-0.102301</td>\n",
       "      <td>...</td>\n",
       "      <td>-0.099143</td>\n",
       "      <td>-0.104845</td>\n",
       "      <td>-0.229043</td>\n",
       "      <td>-0.074920</td>\n",
       "      <td>-0.083715</td>\n",
       "      <td>-0.126726</td>\n",
       "      <td>-0.110096</td>\n",
       "      <td>-0.137098</td>\n",
       "      <td>-0.127713</td>\n",
       "      <td>-0.150913</td>\n",
       "    </tr>\n",
       "    <tr>\n",
       "      <th>25%</th>\n",
       "      <td>0.006000</td>\n",
       "      <td>-0.044709</td>\n",
       "      <td>0.034606</td>\n",
       "      <td>-0.091736</td>\n",
       "      <td>-0.048777</td>\n",
       "      <td>-0.004338</td>\n",
       "      <td>-0.018001</td>\n",
       "      <td>-0.011179</td>\n",
       "      <td>-0.046136</td>\n",
       "      <td>-0.047933</td>\n",
       "      <td>...</td>\n",
       "      <td>-0.024484</td>\n",
       "      <td>-0.015333</td>\n",
       "      <td>-0.054754</td>\n",
       "      <td>-0.010924</td>\n",
       "      <td>-0.009726</td>\n",
       "      <td>-0.053680</td>\n",
       "      <td>-0.013994</td>\n",
       "      <td>-0.055546</td>\n",
       "      <td>-0.061441</td>\n",
       "      <td>-0.017195</td>\n",
       "    </tr>\n",
       "    <tr>\n",
       "      <th>50%</th>\n",
       "      <td>0.046814</td>\n",
       "      <td>0.004574</td>\n",
       "      <td>0.073324</td>\n",
       "      <td>-0.051376</td>\n",
       "      <td>-0.004023</td>\n",
       "      <td>0.029196</td>\n",
       "      <td>0.031599</td>\n",
       "      <td>0.017997</td>\n",
       "      <td>-0.006140</td>\n",
       "      <td>-0.020933</td>\n",
       "      <td>...</td>\n",
       "      <td>0.028964</td>\n",
       "      <td>0.015790</td>\n",
       "      <td>-0.011692</td>\n",
       "      <td>0.024685</td>\n",
       "      <td>0.021100</td>\n",
       "      <td>-0.019506</td>\n",
       "      <td>0.022065</td>\n",
       "      <td>-0.028898</td>\n",
       "      <td>-0.016306</td>\n",
       "      <td>0.024552</td>\n",
       "    </tr>\n",
       "    <tr>\n",
       "      <th>75%</th>\n",
       "      <td>0.085719</td>\n",
       "      <td>0.044015</td>\n",
       "      <td>0.102122</td>\n",
       "      <td>-0.019317</td>\n",
       "      <td>0.026456</td>\n",
       "      <td>0.069052</td>\n",
       "      <td>0.077506</td>\n",
       "      <td>0.059280</td>\n",
       "      <td>0.025425</td>\n",
       "      <td>0.024286</td>\n",
       "      <td>...</td>\n",
       "      <td>0.068420</td>\n",
       "      <td>0.050792</td>\n",
       "      <td>0.017666</td>\n",
       "      <td>0.056247</td>\n",
       "      <td>0.050435</td>\n",
       "      <td>0.014900</td>\n",
       "      <td>0.053747</td>\n",
       "      <td>0.020868</td>\n",
       "      <td>0.019254</td>\n",
       "      <td>0.054894</td>\n",
       "    </tr>\n",
       "    <tr>\n",
       "      <th>max</th>\n",
       "      <td>0.208533</td>\n",
       "      <td>0.151895</td>\n",
       "      <td>0.191073</td>\n",
       "      <td>0.115738</td>\n",
       "      <td>0.129777</td>\n",
       "      <td>0.171910</td>\n",
       "      <td>0.157029</td>\n",
       "      <td>0.156573</td>\n",
       "      <td>0.165003</td>\n",
       "      <td>0.116807</td>\n",
       "      <td>...</td>\n",
       "      <td>0.149267</td>\n",
       "      <td>0.139152</td>\n",
       "      <td>0.131364</td>\n",
       "      <td>0.160954</td>\n",
       "      <td>0.126659</td>\n",
       "      <td>0.097203</td>\n",
       "      <td>0.166473</td>\n",
       "      <td>0.100623</td>\n",
       "      <td>0.079408</td>\n",
       "      <td>0.188379</td>\n",
       "    </tr>\n",
       "  </tbody>\n",
       "</table>\n",
       "<p>8 rows × 300 columns</p>\n",
       "</div>"
      ],
      "text/plain": [
       "              0           1           2           3           4           5    \\\n",
       "count  100.000000  100.000000  100.000000  100.000000  100.000000  100.000000   \n",
       "mean     0.048063    0.002465    0.068856   -0.049706   -0.005404    0.029251   \n",
       "std      0.060148    0.059554    0.058360    0.058235    0.052996    0.056047   \n",
       "min     -0.060959   -0.130392   -0.120841   -0.190018   -0.139096   -0.113941   \n",
       "25%      0.006000   -0.044709    0.034606   -0.091736   -0.048777   -0.004338   \n",
       "50%      0.046814    0.004574    0.073324   -0.051376   -0.004023    0.029196   \n",
       "75%      0.085719    0.044015    0.102122   -0.019317    0.026456    0.069052   \n",
       "max      0.208533    0.151895    0.191073    0.115738    0.129777    0.171910   \n",
       "\n",
       "              6           7           8           9    ...         290  \\\n",
       "count  100.000000  100.000000  100.000000  100.000000  ...  100.000000   \n",
       "mean     0.029855    0.024838   -0.008794   -0.011775  ...    0.022625   \n",
       "std      0.062489    0.052626    0.053521    0.050826  ...    0.064773   \n",
       "min     -0.102089   -0.117995   -0.138958   -0.102301  ...   -0.099143   \n",
       "25%     -0.018001   -0.011179   -0.046136   -0.047933  ...   -0.024484   \n",
       "50%      0.031599    0.017997   -0.006140   -0.020933  ...    0.028964   \n",
       "75%      0.077506    0.059280    0.025425    0.024286  ...    0.068420   \n",
       "max      0.157029    0.156573    0.165003    0.116807  ...    0.149267   \n",
       "\n",
       "              291         292         293         294         295         296  \\\n",
       "count  100.000000  100.000000  100.000000  100.000000  100.000000  100.000000   \n",
       "mean     0.014962   -0.017719    0.025813    0.020600   -0.017776    0.022564   \n",
       "std      0.050453    0.061294    0.051648    0.047672    0.051016    0.053373   \n",
       "min     -0.104845   -0.229043   -0.074920   -0.083715   -0.126726   -0.110096   \n",
       "25%     -0.015333   -0.054754   -0.010924   -0.009726   -0.053680   -0.013994   \n",
       "50%      0.015790   -0.011692    0.024685    0.021100   -0.019506    0.022065   \n",
       "75%      0.050792    0.017666    0.056247    0.050435    0.014900    0.053747   \n",
       "max      0.139152    0.131364    0.160954    0.126659    0.097203    0.166473   \n",
       "\n",
       "              297         298         299  \n",
       "count  100.000000  100.000000  100.000000  \n",
       "mean    -0.020521   -0.018685    0.017812  \n",
       "std      0.054882    0.051268    0.057398  \n",
       "min     -0.137098   -0.127713   -0.150913  \n",
       "25%     -0.055546   -0.061441   -0.017195  \n",
       "50%     -0.028898   -0.016306    0.024552  \n",
       "75%      0.020868    0.019254    0.054894  \n",
       "max      0.100623    0.079408    0.188379  \n",
       "\n",
       "[8 rows x 300 columns]"
      ]
     },
     "execution_count": 76,
     "metadata": {},
     "output_type": "execute_result"
    }
   ],
   "source": [
    "df.describe()"
   ]
  },
  {
   "cell_type": "code",
   "execution_count": 77,
   "id": "d8f9b603",
   "metadata": {},
   "outputs": [
    {
     "data": {
      "text/html": [
       "<div>\n",
       "<style scoped>\n",
       "    .dataframe tbody tr th:only-of-type {\n",
       "        vertical-align: middle;\n",
       "    }\n",
       "\n",
       "    .dataframe tbody tr th {\n",
       "        vertical-align: top;\n",
       "    }\n",
       "\n",
       "    .dataframe thead th {\n",
       "        text-align: right;\n",
       "    }\n",
       "</style>\n",
       "<table border=\"1\" class=\"dataframe\">\n",
       "  <thead>\n",
       "    <tr style=\"text-align: right;\">\n",
       "      <th></th>\n",
       "      <th>0</th>\n",
       "      <th>1</th>\n",
       "      <th>2</th>\n",
       "      <th>3</th>\n",
       "      <th>4</th>\n",
       "      <th>5</th>\n",
       "      <th>6</th>\n",
       "      <th>7</th>\n",
       "      <th>8</th>\n",
       "      <th>9</th>\n",
       "      <th>...</th>\n",
       "      <th>290</th>\n",
       "      <th>291</th>\n",
       "      <th>292</th>\n",
       "      <th>293</th>\n",
       "      <th>294</th>\n",
       "      <th>295</th>\n",
       "      <th>296</th>\n",
       "      <th>297</th>\n",
       "      <th>298</th>\n",
       "      <th>299</th>\n",
       "    </tr>\n",
       "  </thead>\n",
       "  <tbody>\n",
       "    <tr>\n",
       "      <th>0</th>\n",
       "      <td>-0.037677</td>\n",
       "      <td>-0.035380</td>\n",
       "      <td>-0.012349</td>\n",
       "      <td>-0.042018</td>\n",
       "      <td>-0.065134</td>\n",
       "      <td>0.127315</td>\n",
       "      <td>-0.023627</td>\n",
       "      <td>-0.080275</td>\n",
       "      <td>-0.027260</td>\n",
       "      <td>-0.039208</td>\n",
       "      <td>...</td>\n",
       "      <td>0.085763</td>\n",
       "      <td>0.031285</td>\n",
       "      <td>0.006886</td>\n",
       "      <td>0.016922</td>\n",
       "      <td>0.099173</td>\n",
       "      <td>0.033155</td>\n",
       "      <td>0.002583</td>\n",
       "      <td>-0.037926</td>\n",
       "      <td>-0.001465</td>\n",
       "      <td>0.005860</td>\n",
       "    </tr>\n",
       "    <tr>\n",
       "      <th>1</th>\n",
       "      <td>0.011626</td>\n",
       "      <td>0.019375</td>\n",
       "      <td>0.000801</td>\n",
       "      <td>-0.107731</td>\n",
       "      <td>-0.017941</td>\n",
       "      <td>0.002497</td>\n",
       "      <td>0.073265</td>\n",
       "      <td>0.126857</td>\n",
       "      <td>-0.118182</td>\n",
       "      <td>-0.010503</td>\n",
       "      <td>...</td>\n",
       "      <td>-0.021398</td>\n",
       "      <td>-0.015392</td>\n",
       "      <td>-0.068001</td>\n",
       "      <td>0.002580</td>\n",
       "      <td>0.080875</td>\n",
       "      <td>-0.042964</td>\n",
       "      <td>-0.110096</td>\n",
       "      <td>-0.034457</td>\n",
       "      <td>-0.006336</td>\n",
       "      <td>0.033329</td>\n",
       "    </tr>\n",
       "    <tr>\n",
       "      <th>2</th>\n",
       "      <td>-0.006039</td>\n",
       "      <td>-0.027805</td>\n",
       "      <td>0.065933</td>\n",
       "      <td>-0.126930</td>\n",
       "      <td>-0.017458</td>\n",
       "      <td>0.060408</td>\n",
       "      <td>-0.100407</td>\n",
       "      <td>0.074994</td>\n",
       "      <td>0.019166</td>\n",
       "      <td>-0.018555</td>\n",
       "      <td>...</td>\n",
       "      <td>-0.028017</td>\n",
       "      <td>-0.076343</td>\n",
       "      <td>0.057872</td>\n",
       "      <td>0.052875</td>\n",
       "      <td>0.005777</td>\n",
       "      <td>-0.038075</td>\n",
       "      <td>0.028426</td>\n",
       "      <td>-0.090898</td>\n",
       "      <td>0.023276</td>\n",
       "      <td>0.053841</td>\n",
       "    </tr>\n",
       "    <tr>\n",
       "      <th>3</th>\n",
       "      <td>-0.001247</td>\n",
       "      <td>0.053870</td>\n",
       "      <td>0.054432</td>\n",
       "      <td>-0.048168</td>\n",
       "      <td>0.039787</td>\n",
       "      <td>-0.026753</td>\n",
       "      <td>0.033143</td>\n",
       "      <td>0.009893</td>\n",
       "      <td>-0.040901</td>\n",
       "      <td>0.026306</td>\n",
       "      <td>...</td>\n",
       "      <td>0.079848</td>\n",
       "      <td>0.089052</td>\n",
       "      <td>0.037910</td>\n",
       "      <td>0.019120</td>\n",
       "      <td>-0.070448</td>\n",
       "      <td>-0.024059</td>\n",
       "      <td>0.082493</td>\n",
       "      <td>-0.068873</td>\n",
       "      <td>-0.021600</td>\n",
       "      <td>-0.062101</td>\n",
       "    </tr>\n",
       "    <tr>\n",
       "      <th>4</th>\n",
       "      <td>-0.000229</td>\n",
       "      <td>-0.009246</td>\n",
       "      <td>-0.037379</td>\n",
       "      <td>0.030061</td>\n",
       "      <td>0.027567</td>\n",
       "      <td>0.073132</td>\n",
       "      <td>0.117822</td>\n",
       "      <td>0.039704</td>\n",
       "      <td>0.019304</td>\n",
       "      <td>-0.019422</td>\n",
       "      <td>...</td>\n",
       "      <td>0.082701</td>\n",
       "      <td>0.104111</td>\n",
       "      <td>-0.035886</td>\n",
       "      <td>0.027462</td>\n",
       "      <td>0.124262</td>\n",
       "      <td>-0.055095</td>\n",
       "      <td>0.030110</td>\n",
       "      <td>-0.052497</td>\n",
       "      <td>-0.097408</td>\n",
       "      <td>0.054159</td>\n",
       "    </tr>\n",
       "    <tr>\n",
       "      <th>5</th>\n",
       "      <td>0.090123</td>\n",
       "      <td>0.149896</td>\n",
       "      <td>0.083400</td>\n",
       "      <td>-0.086417</td>\n",
       "      <td>-0.016269</td>\n",
       "      <td>0.076229</td>\n",
       "      <td>0.015459</td>\n",
       "      <td>0.063722</td>\n",
       "      <td>-0.067703</td>\n",
       "      <td>-0.016176</td>\n",
       "      <td>...</td>\n",
       "      <td>-0.034662</td>\n",
       "      <td>-0.081919</td>\n",
       "      <td>-0.018830</td>\n",
       "      <td>0.089498</td>\n",
       "      <td>-0.022935</td>\n",
       "      <td>-0.022744</td>\n",
       "      <td>0.055124</td>\n",
       "      <td>-0.082281</td>\n",
       "      <td>-0.049014</td>\n",
       "      <td>-0.008583</td>\n",
       "    </tr>\n",
       "    <tr>\n",
       "      <th>6</th>\n",
       "      <td>0.159142</td>\n",
       "      <td>-0.044675</td>\n",
       "      <td>0.073706</td>\n",
       "      <td>-0.014656</td>\n",
       "      <td>0.066299</td>\n",
       "      <td>-0.004917</td>\n",
       "      <td>0.028621</td>\n",
       "      <td>-0.044473</td>\n",
       "      <td>0.013044</td>\n",
       "      <td>0.003984</td>\n",
       "      <td>...</td>\n",
       "      <td>0.004634</td>\n",
       "      <td>0.013070</td>\n",
       "      <td>-0.010817</td>\n",
       "      <td>-0.074920</td>\n",
       "      <td>-0.025727</td>\n",
       "      <td>-0.060651</td>\n",
       "      <td>0.024078</td>\n",
       "      <td>-0.017777</td>\n",
       "      <td>0.021260</td>\n",
       "      <td>0.095216</td>\n",
       "    </tr>\n",
       "    <tr>\n",
       "      <th>7</th>\n",
       "      <td>0.000880</td>\n",
       "      <td>-0.022491</td>\n",
       "      <td>0.089526</td>\n",
       "      <td>-0.190018</td>\n",
       "      <td>-0.010820</td>\n",
       "      <td>0.073608</td>\n",
       "      <td>0.143600</td>\n",
       "      <td>0.050915</td>\n",
       "      <td>-0.004300</td>\n",
       "      <td>0.016056</td>\n",
       "      <td>...</td>\n",
       "      <td>0.054077</td>\n",
       "      <td>-0.041020</td>\n",
       "      <td>-0.024655</td>\n",
       "      <td>0.060068</td>\n",
       "      <td>0.042088</td>\n",
       "      <td>-0.081806</td>\n",
       "      <td>-0.000574</td>\n",
       "      <td>-0.024816</td>\n",
       "      <td>-0.014048</td>\n",
       "      <td>0.036220</td>\n",
       "    </tr>\n",
       "    <tr>\n",
       "      <th>8</th>\n",
       "      <td>0.100499</td>\n",
       "      <td>0.046421</td>\n",
       "      <td>-0.077605</td>\n",
       "      <td>-0.025052</td>\n",
       "      <td>0.000935</td>\n",
       "      <td>0.072688</td>\n",
       "      <td>-0.065830</td>\n",
       "      <td>-0.033917</td>\n",
       "      <td>0.013429</td>\n",
       "      <td>0.019793</td>\n",
       "      <td>...</td>\n",
       "      <td>0.101558</td>\n",
       "      <td>-0.079138</td>\n",
       "      <td>0.051520</td>\n",
       "      <td>-0.019944</td>\n",
       "      <td>0.068027</td>\n",
       "      <td>0.008233</td>\n",
       "      <td>0.022714</td>\n",
       "      <td>0.045678</td>\n",
       "      <td>0.052384</td>\n",
       "      <td>0.024987</td>\n",
       "    </tr>\n",
       "    <tr>\n",
       "      <th>9</th>\n",
       "      <td>0.057130</td>\n",
       "      <td>-0.050985</td>\n",
       "      <td>0.069259</td>\n",
       "      <td>-0.023028</td>\n",
       "      <td>0.049407</td>\n",
       "      <td>0.098332</td>\n",
       "      <td>0.141137</td>\n",
       "      <td>0.035322</td>\n",
       "      <td>-0.056821</td>\n",
       "      <td>-0.073730</td>\n",
       "      <td>...</td>\n",
       "      <td>-0.013548</td>\n",
       "      <td>-0.025599</td>\n",
       "      <td>0.092155</td>\n",
       "      <td>0.058398</td>\n",
       "      <td>0.044430</td>\n",
       "      <td>-0.014656</td>\n",
       "      <td>0.092710</td>\n",
       "      <td>0.078035</td>\n",
       "      <td>-0.028202</td>\n",
       "      <td>0.076926</td>\n",
       "    </tr>\n",
       "  </tbody>\n",
       "</table>\n",
       "<p>10 rows × 300 columns</p>\n",
       "</div>"
      ],
      "text/plain": [
       "        0         1         2         3         4         5         6    \\\n",
       "0 -0.037677 -0.035380 -0.012349 -0.042018 -0.065134  0.127315 -0.023627   \n",
       "1  0.011626  0.019375  0.000801 -0.107731 -0.017941  0.002497  0.073265   \n",
       "2 -0.006039 -0.027805  0.065933 -0.126930 -0.017458  0.060408 -0.100407   \n",
       "3 -0.001247  0.053870  0.054432 -0.048168  0.039787 -0.026753  0.033143   \n",
       "4 -0.000229 -0.009246 -0.037379  0.030061  0.027567  0.073132  0.117822   \n",
       "5  0.090123  0.149896  0.083400 -0.086417 -0.016269  0.076229  0.015459   \n",
       "6  0.159142 -0.044675  0.073706 -0.014656  0.066299 -0.004917  0.028621   \n",
       "7  0.000880 -0.022491  0.089526 -0.190018 -0.010820  0.073608  0.143600   \n",
       "8  0.100499  0.046421 -0.077605 -0.025052  0.000935  0.072688 -0.065830   \n",
       "9  0.057130 -0.050985  0.069259 -0.023028  0.049407  0.098332  0.141137   \n",
       "\n",
       "        7         8         9    ...       290       291       292       293  \\\n",
       "0 -0.080275 -0.027260 -0.039208  ...  0.085763  0.031285  0.006886  0.016922   \n",
       "1  0.126857 -0.118182 -0.010503  ... -0.021398 -0.015392 -0.068001  0.002580   \n",
       "2  0.074994  0.019166 -0.018555  ... -0.028017 -0.076343  0.057872  0.052875   \n",
       "3  0.009893 -0.040901  0.026306  ...  0.079848  0.089052  0.037910  0.019120   \n",
       "4  0.039704  0.019304 -0.019422  ...  0.082701  0.104111 -0.035886  0.027462   \n",
       "5  0.063722 -0.067703 -0.016176  ... -0.034662 -0.081919 -0.018830  0.089498   \n",
       "6 -0.044473  0.013044  0.003984  ...  0.004634  0.013070 -0.010817 -0.074920   \n",
       "7  0.050915 -0.004300  0.016056  ...  0.054077 -0.041020 -0.024655  0.060068   \n",
       "8 -0.033917  0.013429  0.019793  ...  0.101558 -0.079138  0.051520 -0.019944   \n",
       "9  0.035322 -0.056821 -0.073730  ... -0.013548 -0.025599  0.092155  0.058398   \n",
       "\n",
       "        294       295       296       297       298       299  \n",
       "0  0.099173  0.033155  0.002583 -0.037926 -0.001465  0.005860  \n",
       "1  0.080875 -0.042964 -0.110096 -0.034457 -0.006336  0.033329  \n",
       "2  0.005777 -0.038075  0.028426 -0.090898  0.023276  0.053841  \n",
       "3 -0.070448 -0.024059  0.082493 -0.068873 -0.021600 -0.062101  \n",
       "4  0.124262 -0.055095  0.030110 -0.052497 -0.097408  0.054159  \n",
       "5 -0.022935 -0.022744  0.055124 -0.082281 -0.049014 -0.008583  \n",
       "6 -0.025727 -0.060651  0.024078 -0.017777  0.021260  0.095216  \n",
       "7  0.042088 -0.081806 -0.000574 -0.024816 -0.014048  0.036220  \n",
       "8  0.068027  0.008233  0.022714  0.045678  0.052384  0.024987  \n",
       "9  0.044430 -0.014656  0.092710  0.078035 -0.028202  0.076926  \n",
       "\n",
       "[10 rows x 300 columns]"
      ]
     },
     "execution_count": 77,
     "metadata": {},
     "output_type": "execute_result"
    }
   ],
   "source": [
    "df.head(10)"
   ]
  },
  {
   "cell_type": "code",
   "execution_count": 141,
   "id": "020a96f8",
   "metadata": {},
   "outputs": [
    {
     "data": {
      "image/png": "[encoded data removed]",
      "text/plain": [
       "<Figure size 432x288 with 1 Axes>"
      ]
     },
     "metadata": {
      "needs_background": "light"
     },
     "output_type": "display_data"
    }
   ],
   "source": [
    "#fig, ax = plt.subplots()\n",
    "#p2 = ax.spy(centroids, marker='^', markersize=0.5, c='red')\n",
    "#p1 = ax.spy(x_normalized, markersize=0.1)\n",
    "\n",
    "plt.scatter([*range(300)], df[0:1])\n",
    "plt.scatter([*range(300)], df[1:2])\n",
    "plt.scatter([*range(300)], df[2:3])\n",
    "\n",
    "plt.show()"
   ]
  },
  {
   "cell_type": "code",
   "execution_count": 139,
   "id": "d3ec02ec",
   "metadata": {},
   "outputs": [
    {
     "data": {
      "text/html": [
       "<div>\n",
       "<style scoped>\n",
       "    .dataframe tbody tr th:only-of-type {\n",
       "        vertical-align: middle;\n",
       "    }\n",
       "\n",
       "    .dataframe tbody tr th {\n",
       "        vertical-align: top;\n",
       "    }\n",
       "\n",
       "    .dataframe thead th {\n",
       "        text-align: right;\n",
       "    }\n",
       "</style>\n",
       "<table border=\"1\" class=\"dataframe\">\n",
       "  <thead>\n",
       "    <tr style=\"text-align: right;\">\n",
       "      <th></th>\n",
       "      <th>0</th>\n",
       "      <th>1</th>\n",
       "      <th>2</th>\n",
       "      <th>3</th>\n",
       "      <th>4</th>\n",
       "      <th>5</th>\n",
       "      <th>6</th>\n",
       "      <th>7</th>\n",
       "      <th>8</th>\n",
       "      <th>9</th>\n",
       "      <th>...</th>\n",
       "      <th>290</th>\n",
       "      <th>291</th>\n",
       "      <th>292</th>\n",
       "      <th>293</th>\n",
       "      <th>294</th>\n",
       "      <th>295</th>\n",
       "      <th>296</th>\n",
       "      <th>297</th>\n",
       "      <th>298</th>\n",
       "      <th>299</th>\n",
       "    </tr>\n",
       "  </thead>\n",
       "  <tbody>\n",
       "    <tr>\n",
       "      <th>1</th>\n",
       "      <td>0.011626</td>\n",
       "      <td>0.019375</td>\n",
       "      <td>0.000801</td>\n",
       "      <td>-0.107731</td>\n",
       "      <td>-0.017941</td>\n",
       "      <td>0.002497</td>\n",
       "      <td>0.073265</td>\n",
       "      <td>0.126857</td>\n",
       "      <td>-0.118182</td>\n",
       "      <td>-0.010503</td>\n",
       "      <td>...</td>\n",
       "      <td>-0.021398</td>\n",
       "      <td>-0.015392</td>\n",
       "      <td>-0.068001</td>\n",
       "      <td>0.00258</td>\n",
       "      <td>0.080875</td>\n",
       "      <td>-0.042964</td>\n",
       "      <td>-0.110096</td>\n",
       "      <td>-0.034457</td>\n",
       "      <td>-0.006336</td>\n",
       "      <td>0.033329</td>\n",
       "    </tr>\n",
       "  </tbody>\n",
       "</table>\n",
       "<p>1 rows × 300 columns</p>\n",
       "</div>"
      ],
      "text/plain": [
       "        0         1         2         3         4         5         6    \\\n",
       "1  0.011626  0.019375  0.000801 -0.107731 -0.017941  0.002497  0.073265   \n",
       "\n",
       "        7         8         9    ...       290       291       292      293  \\\n",
       "1  0.126857 -0.118182 -0.010503  ... -0.021398 -0.015392 -0.068001  0.00258   \n",
       "\n",
       "        294       295       296       297       298       299  \n",
       "1  0.080875 -0.042964 -0.110096 -0.034457 -0.006336  0.033329  \n",
       "\n",
       "[1 rows x 300 columns]"
      ]
     },
     "execution_count": 139,
     "metadata": {},
     "output_type": "execute_result"
    }
   ],
   "source": [
    "df[1:2]"
   ]
  },
  {
   "cell_type": "code",
   "execution_count": 131,
   "id": "b6318eb8",
   "metadata": {},
   "outputs": [
    {
     "data": {
      "text/plain": [
       "[0, 1, 2, 3, 4, 5, 6, 7, 8, 9]"
      ]
     },
     "execution_count": 131,
     "metadata": {},
     "output_type": "execute_result"
    }
   ],
   "source": [
    "[*range(10)]"
   ]
  },
  {
   "cell_type": "code",
   "execution_count": 92,
   "id": "c53a8ee1",
   "metadata": {},
   "outputs": [
    {
     "data": {
      "text/plain": [
       "0    -0.037677\n",
       "1     0.011626\n",
       "2    -0.006039\n",
       "3    -0.001247\n",
       "4    -0.000229\n",
       "        ...   \n",
       "95   -0.015876\n",
       "96    0.049466\n",
       "97    0.002638\n",
       "98    0.084251\n",
       "99    0.097341\n",
       "Name: 0, Length: 100, dtype: float64"
      ]
     },
     "execution_count": 92,
     "metadata": {},
     "output_type": "execute_result"
    }
   ],
   "source": [
    "df[0]"
   ]
  },
  {
   "cell_type": "code",
   "execution_count": 93,
   "id": "56900bd3",
   "metadata": {},
   "outputs": [
    {
     "data": {
      "text/plain": [
       "array([-3.76773030e-02, -3.53802592e-02, -1.23485466e-02, -4.20176610e-02,\n",
       "       -6.51342571e-02,  1.27315387e-01, -2.36270763e-02, -8.02753791e-02,\n",
       "       -2.72603910e-02, -3.92078497e-02, -3.15634720e-02,  4.89823371e-02,\n",
       "        3.27817388e-02, -1.20331913e-01,  1.39504764e-02, -8.23828653e-02,\n",
       "       -8.41784477e-02,  2.53750831e-02,  1.17768776e-02,  2.66119465e-02,\n",
       "       -6.60982430e-02,  1.07959703e-01,  2.60435361e-02,  2.61660647e-02,\n",
       "       -3.14476267e-02, -7.82984030e-03,  5.87225594e-02,  3.23680006e-02,\n",
       "        4.49615568e-02,  4.55230884e-02, -1.53088555e-01,  3.78823094e-02,\n",
       "        4.38952297e-02,  8.61856248e-03,  7.30967298e-02,  4.92363349e-02,\n",
       "       -1.59689054e-01,  3.87669131e-02, -1.88030547e-03,  4.82022539e-02,\n",
       "        9.69663076e-03, -5.96992821e-02, -1.12436265e-01, -1.66706312e-02,\n",
       "        9.82643105e-03, -3.54590230e-02, -4.50752303e-02,  2.97344793e-02,\n",
       "       -1.75189376e-02, -6.52902052e-02, -2.06918418e-02,  2.26165541e-02,\n",
       "        4.14651036e-02, -6.15358390e-02, -2.54340023e-02,  5.35844602e-02,\n",
       "        3.93520966e-02, -1.18414439e-01,  7.15158880e-02, -2.78180074e-02,\n",
       "        4.47729900e-02, -7.29985908e-02,  1.26096085e-01,  5.42026665e-03,\n",
       "       -9.00913868e-03,  6.31408691e-02,  2.19038371e-02, -3.04636154e-02,\n",
       "       -8.19045771e-03, -9.22276825e-02,  8.70477501e-03, -2.78281197e-02,\n",
       "       -2.73406995e-03,  3.57569642e-02, -5.06236143e-02, -4.20741783e-03,\n",
       "        5.80606833e-02, -4.90692705e-02,  3.79672982e-02,  7.53398836e-02,\n",
       "       -1.58064477e-02,  1.30978674e-01,  4.34076712e-02,  1.11432131e-02,\n",
       "        6.27302825e-02, -2.81547979e-02,  5.22811748e-02,  5.24832346e-02,\n",
       "       -3.71640474e-02, -6.48298860e-02,  1.09055182e-02,  2.86623882e-03,\n",
       "        6.57570362e-02, -7.52165634e-03, -6.13161214e-02,  6.02965541e-02,\n",
       "       -5.66198006e-02, -1.89044867e-02,  1.19867072e-01,  3.21445353e-02,\n",
       "       -1.47898076e-02,  4.08464968e-02, -2.05866583e-02, -6.82868138e-02,\n",
       "       -7.54767796e-03,  4.42916295e-03, -3.32140401e-02,  2.31020786e-02,\n",
       "        2.38449108e-02,  1.50915571e-02,  1.86880566e-02, -9.40551236e-02,\n",
       "        4.09036316e-02, -7.50019401e-02,  2.20132917e-01,  3.56796086e-02,\n",
       "        5.56829646e-02, -1.44863892e-02,  3.29797529e-02,  3.10336594e-02,\n",
       "        9.64314118e-02,  5.27163669e-02,  2.39775945e-02, -1.14444964e-01,\n",
       "       -1.66453817e-03, -2.54960731e-02, -2.09837034e-02, -1.04461014e-02,\n",
       "        6.91820309e-02, -7.40294456e-02,  3.36576812e-02, -1.06520317e-01,\n",
       "       -5.93600459e-02, -3.53118517e-02, -3.94558571e-02, -4.02703024e-02,\n",
       "       -3.00505292e-02,  2.18711756e-02,  1.29301637e-01,  1.19698189e-01,\n",
       "        3.26127894e-02, -9.47600529e-02, -4.29127179e-02, -1.54369744e-02,\n",
       "       -3.40739898e-02, -4.33241688e-02, -6.67507108e-03,  6.17266893e-02,\n",
       "        2.31289044e-02,  1.99120380e-02,  3.99311632e-02, -1.60538140e-04,\n",
       "       -4.44352115e-03,  8.28177705e-02,  1.21813482e-02,  5.00221411e-03,\n",
       "       -1.31184887e-02,  4.61938791e-03,  7.34758470e-03, -2.33560684e-04,\n",
       "       -1.16685353e-01,  4.69074249e-02, -7.99954403e-03,  2.14334112e-03,\n",
       "        1.53321534e-01,  3.92086208e-02, -9.56247747e-03,  5.93176931e-02,\n",
       "        1.08012401e-01,  3.70597281e-02,  5.33950068e-02, -3.80965956e-02,\n",
       "        9.42673627e-03, -5.69383390e-02,  5.10355225e-03,  1.78952608e-02,\n",
       "        5.26373554e-03, -7.77575374e-02,  4.63365503e-02, -1.44842798e-02,\n",
       "       -7.15888711e-03, -7.45787937e-03,  6.94485456e-02,  1.34227648e-02,\n",
       "        4.13272344e-02,  1.43285111e-01,  3.60642523e-02,  1.43240262e-02,\n",
       "       -1.12126201e-01, -1.36047024e-02,  1.37100397e-02,  1.38558755e-02,\n",
       "        5.82777187e-02,  5.88716380e-02,  1.21370004e-02, -1.21179096e-01,\n",
       "       -1.61598008e-02, -6.07639179e-02,  9.65746567e-02,  1.40635952e-01,\n",
       "        1.97263453e-02,  3.00518908e-02,  1.59283783e-02, -4.99102399e-02,\n",
       "        5.68867428e-04, -1.68557279e-02,  1.40990332e-01,  4.84196246e-02,\n",
       "        1.09258875e-01, -1.28676638e-01, -7.32093826e-02,  3.98616493e-02,\n",
       "        5.98981157e-02,  4.36663516e-02, -1.07430130e-01, -3.52011323e-02,\n",
       "        3.56668904e-02,  2.38086451e-02, -2.24154703e-02, -2.02156175e-02,\n",
       "       -7.71332011e-02, -3.92150506e-02, -5.40003516e-02, -3.10757179e-02,\n",
       "       -1.06605709e-01, -2.84753740e-02,  8.63329798e-04,  3.52836885e-02,\n",
       "        9.02939811e-02,  1.01024806e-01, -5.99130653e-02, -2.45497096e-02,\n",
       "        7.62853324e-02,  2.89286189e-02,  3.94820273e-02,  2.79118344e-02,\n",
       "        6.22219555e-02,  5.33838803e-03,  7.77878538e-02,  4.57036495e-02,\n",
       "        3.61183062e-02, -5.20377308e-02, -2.11373083e-02,  3.56730334e-02,\n",
       "        3.53874825e-02, -7.48044020e-03, -8.42048824e-02,  6.14776425e-02,\n",
       "        1.66427009e-02, -7.57517712e-03,  1.06784225e-01, -1.15624061e-02,\n",
       "       -1.08239800e-01, -5.67703731e-02, -3.17717455e-02, -6.51183724e-02,\n",
       "       -4.96826246e-02,  2.74906363e-02, -7.97790438e-02, -4.62402590e-03,\n",
       "        3.94385960e-03,  3.76104552e-04, -7.63841264e-04,  3.41323875e-02,\n",
       "        1.08700305e-01,  4.18062955e-02, -4.07878906e-02,  7.17888027e-03,\n",
       "        1.04229972e-02,  3.81838158e-02,  6.36123195e-02, -3.95606563e-04,\n",
       "        5.56253921e-03,  2.26772279e-02, -3.01122647e-02, -5.73623329e-02,\n",
       "        1.16807573e-01,  1.92756741e-03, -4.28847410e-03,  3.37959081e-02,\n",
       "       -7.01711103e-02, -2.55691400e-03,  1.46802422e-02,  4.76481766e-02,\n",
       "       -9.10054520e-03,  2.01669410e-02,  7.04818740e-02, -3.54178362e-02,\n",
       "        5.85115813e-02,  1.93780214e-02,  8.57625902e-02,  3.12845483e-02,\n",
       "        6.88634068e-03,  1.69224329e-02,  9.91729572e-02,  3.31554338e-02,\n",
       "        2.58274493e-03, -3.79263610e-02, -1.46516156e-03,  5.86027931e-03],\n",
       "      dtype=float32)"
      ]
     },
     "execution_count": 93,
     "metadata": {},
     "output_type": "execute_result"
    }
   ],
   "source": [
    "x_normalized[0]"
   ]
  },
  {
   "cell_type": "code",
   "execution_count": null,
   "id": "ef38e6d3",
   "metadata": {},
   "outputs": [],
   "source": []
  }
 ],
 "metadata": {
  "kernelspec": {
   "display_name": "Python 3",
   "language": "python",
   "name": "python3"
  },
  "language_info": {
   "codemirror_mode": {
    "name": "ipython",
    "version": 3
   },
   "file_extension": ".py",
   "mimetype": "text/x-python",
   "name": "python",
   "nbconvert_exporter": "python",
   "pygments_lexer": "ipython3",
   "version": "3.7.4"
  }
 },
 "nbformat": 4,
 "nbformat_minor": 5
}
